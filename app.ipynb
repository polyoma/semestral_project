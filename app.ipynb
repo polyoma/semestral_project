{
 "cells": [
  {
   "cell_type": "code",
   "execution_count": 1,
   "metadata": {
    "collapsed": true
   },
   "outputs": [],
   "source": [
    "import dash\n",
    "import dash_core_components as dcc\n",
    "import dash_html_components as html\n",
    "import plotly.graph_objs as go\n",
    "import pandas as pd\n",
    "import numpy as np"
   ]
  },
  {
   "cell_type": "code",
   "execution_count": 2,
   "metadata": {
    "collapsed": true
   },
   "outputs": [],
   "source": [
    "app = dash.Dash()"
   ]
  },
  {
   "cell_type": "code",
   "execution_count": 3,
   "metadata": {
    "collapsed": true
   },
   "outputs": [],
   "source": [
    "import os\n",
    "server = app.server\n",
    "server.secret_key = os.environ.get('SECRET_KEY', 'my-secret-key')"
   ]
  },
  {
   "cell_type": "code",
   "execution_count": 4,
   "metadata": {
    "collapsed": true
   },
   "outputs": [],
   "source": [
    "df = pd.read_csv('https://raw.githubusercontent.com/vincentarelbundock/Rdatasets/master/csv/datasets/infert.csv')"
   ]
  },
  {
   "cell_type": "code",
   "execution_count": 5,
   "metadata": {
    "collapsed": true
   },
   "outputs": [],
   "source": [
    "colors = {\n",
    "    'background': '#E9E9E9',\n",
    "    'background_a': '#FAFAFA',\n",
    "    'text': '#000066'\n",
    "}"
   ]
  },
  {
   "cell_type": "code",
   "execution_count": 6,
   "metadata": {
    "collapsed": true
   },
   "outputs": [],
   "source": [
    "markdown_text ='''\\\n",
    "\\\n",
    "\\\n",
    "# Infertility after Spontaneous and Induced Abortion\n",
    "\n",
    "\n",
    "### Data visualization\n",
    "\n",
    "\n",
    "'''"
   ]
  },
  {
   "cell_type": "code",
   "execution_count": 7,
   "metadata": {
    "collapsed": true
   },
   "outputs": [],
   "source": [
    "markdown_text_a = '''\n",
    "\\\n",
    "This application serves to visualize [data](https://raw.githubusercontent.com/vincentarelbundock/Rdatasets/master/csv/datasets/infert.csv) from matched case-control study _Infertility after Spontaneous and Induced Abortion_.\n",
    "In this study, number of induced and spontaneous abortions, parity, age and education data was collected. You can visualize those data by choosing from three different types of plots.'''"
   ]
  },
  {
   "cell_type": "code",
   "execution_count": 8,
   "metadata": {
    "collapsed": true
   },
   "outputs": [],
   "source": [
    "all_options = {\n",
    "    'Barplot': ['induced abortion', 'spontaneous abortion', 'education'],\n",
    "    'Scatterplot': [],\n",
    "    'Histogram': ['age', 'parity']\n",
    "}"
   ]
  },
  {
   "cell_type": "code",
   "execution_count": 9,
   "metadata": {
    "collapsed": true
   },
   "outputs": [],
   "source": [
    "scatter_options = {\n",
    "    'Barplot': [],\n",
    "    'Scatterplot': [\"education\",\"age\",\"parity\",\"induced\",\"case\",\"spontaneous\",\"stratum\",\"pooled.stratum\"],\n",
    "    'Histogram': []\n",
    "}"
   ]
  },
  {
   "cell_type": "code",
   "execution_count": 10,
   "metadata": {
    "collapsed": true
   },
   "outputs": [],
   "source": [
    "app.layout=html.Div(children=[\n",
    "    html.Br(),\n",
    "    html.Div(dcc.Markdown(children=markdown_text), style={\n",
    "            'textAlign': 'center',\n",
    "            'color': colors['text'],\n",
    "    'backgroundColor': colors['background']\n",
    "        }),\n",
    "    html.Div(dcc.Markdown(children=markdown_text_a), style={\n",
    "        'textAlign': 'center',\n",
    "        'color': colors['text'],\n",
    "    'backgroundColor': colors['background_a'],\n",
    "    'marginLeft': 180,\n",
    "    'marginRight': 180}\n",
    "            ),\n",
    "    html.Br(),\n",
    "    html.Label('Plot options:'),\n",
    "    dcc.Dropdown(\n",
    "        id='Graph_dropdown',\n",
    "        options=[{'label': k, 'value': k} for k in all_options.keys()],\n",
    "        value='Barplot'\n",
    "    ),\n",
    "\n",
    "    dcc.RadioItems(id='variables'),\n",
    "    html.Hr(),\n",
    "    \n",
    "    dcc.RadioItems(id='xaxis-data',style={ 'float': 'left','width': '20%', 'display': 'inline-block'}),\n",
    "    \n",
    "    dcc.RadioItems(id='yaxis-data', style={'float': 'middle','width': '45%','display': 'inline-block'}),\n",
    "    \n",
    "    html.Hr(),\n",
    "    \n",
    "    dcc.Graph(id='Graph'),\n",
    "   ]\n",
    ")\n"
   ]
  },
  {
   "cell_type": "code",
   "execution_count": 11,
   "metadata": {
    "collapsed": true
   },
   "outputs": [],
   "source": [
    "@app.callback(\n",
    "    dash.dependencies.Output('variables', 'options'),\n",
    "    [dash.dependencies.Input('Graph_dropdown', 'value')])\n",
    "def set_graph_options(selected_graph):\n",
    "    return [{'label': i, 'value': i} for i in all_options[selected_graph]]\n",
    "@app.callback(\n",
    "    dash.dependencies.Output('variables', 'value'),\n",
    "    [dash.dependencies.Input('variables', 'options')])\n",
    "def set_graph_value(available_options):\n",
    "    return available_options[0]['value']\n"
   ]
  },
  {
   "cell_type": "code",
   "execution_count": 12,
   "metadata": {
    "collapsed": true
   },
   "outputs": [],
   "source": [
    "@app.callback(\n",
    "    dash.dependencies.Output('xaxis-data', 'options'),\n",
    "    [dash.dependencies.Input('Graph_dropdown', 'value')])\n",
    "def set_graph_options(selected_x):\n",
    "    return [{'label': i, 'value': i} for i in scatter_options[selected_x]]\n",
    "@app.callback(\n",
    "    dash.dependencies.Output('xaxis-data', 'value'),\n",
    "    [dash.dependencies.Input('xaxis-data', 'options')])\n",
    "def set_graph_value(available_options):\n",
    "    return available_options[0]['value']"
   ]
  },
  {
   "cell_type": "code",
   "execution_count": 13,
   "metadata": {
    "collapsed": true
   },
   "outputs": [],
   "source": [
    "@app.callback(\n",
    "    dash.dependencies.Output('yaxis-data', 'options'),\n",
    "    [dash.dependencies.Input('Graph_dropdown', 'value')])\n",
    "def set_graph_options(selected_y):\n",
    "    return [{'label': i, 'value': i} for i in scatter_options[selected_y]]\n",
    "@app.callback(\n",
    "    dash.dependencies.Output('yaxis-data', 'value'),\n",
    "    [dash.dependencies.Input('yaxis-data', 'options')])\n",
    "def set_graph_value(available_options):\n",
    "    return available_options[0]['value']"
   ]
  },
  {
   "cell_type": "code",
   "execution_count": 14,
   "metadata": {
    "collapsed": true
   },
   "outputs": [],
   "source": [
    "@app.callback(\n",
    "    dash.dependencies.Output(component_id='Graph', component_property='figure'),\n",
    "    [dash.dependencies.Input(component_id='Graph_dropdown', component_property='value'),\n",
    "     dash.dependencies.Input(component_id='variables', component_property='value'),\n",
    "     dash.dependencies.Input(component_id='xaxis-data', component_property='value'),\n",
    "     dash.dependencies.Input(component_id='yaxis-data', component_property='value')])\n",
    "def update_figure(plot_type, plot_data, xaxis, yaxis):\n",
    "    \n",
    "    \n",
    "    if plot_type == 'Barplot' and plot_data =='induced abortion':\n",
    "        trace1 = go.Bar(x = df.groupby(['induced', 'case']).size().unstack(level = 1).index, y = df.groupby(['induced', 'case']).size().unstack(level = 1)[0]/165, name = 'control')\n",
    "\n",
    "        trace2 = go.Bar(x = df.groupby(['induced', 'case']).size().unstack(level = 1).index,y = df.groupby(['induced', 'case']).size().unstack(level = 1)[1]/83, name = 'case')\n",
    "    \n",
    "        data = [trace1, trace2]\n",
    "        layout = go.Layout(title = 'Induced abortion in case/control group',xaxis=dict(title=\"number of induced abortion (2= two and more)\"))\n",
    "    \n",
    "    if plot_type == 'Barplot' and plot_data =='spontaneous abortion':\n",
    "        trace1 = go.Bar(x = df.groupby(['spontaneous', 'case']).size().unstack(level = 1).index, y = df.groupby(['spontaneous', 'case']).size().unstack(level = 1)[0]/165, name = 'control')\n",
    "\n",
    "        trace2 = go.Bar(x = df.groupby(['spontaneous', 'case']).size().unstack(level = 1).index,y = df.groupby(['spontaneous', 'case']).size().unstack(level = 1)[1]/83, name = 'case')\n",
    "    \n",
    "        data = [trace1, trace2]\n",
    "        layout = go.Layout(title = 'Spontaneous abortion in case/control group',xaxis=dict(title=\"number of spontaneous abortion (2= two and more)\"))\n",
    "    \n",
    "    if plot_type == 'Barplot' and plot_data =='education':\n",
    "        trace1 = go.Bar(x = df.groupby(['education', 'case']).size().unstack(level = 1).index, y = df.groupby(['education', 'case']).size().unstack(level = 1)[0]/165, name = 'control')\n",
    "\n",
    "        trace2 = go.Bar(x = df.groupby(['education', 'case']).size().unstack(level = 1).index,y = df.groupby(['education', 'case']).size().unstack(level = 1)[1]/83, name = 'case')\n",
    "    \n",
    "        data = [trace1, trace2]\n",
    "        layout = go.Layout(title = 'Education of case/control group',xaxis=dict(title=\"years in school\"))\n",
    "    \n",
    "    \n",
    "    if plot_type == 'Histogram' and plot_data == 'age':\n",
    "        case = df[df.case == 1].age\n",
    "        control = df[df.case == 0].age\n",
    "        \n",
    "        trace1 = go.Histogram(x=case,opacity=0.5,name = 'case')\n",
    "        trace2 = go.Histogram(x=control,opacity=0.5,name = 'control')\n",
    "        \n",
    "        data = [trace1, trace2]\n",
    "        layout = go.Layout(barmode = 'stack',title = \"age by case/control group\",xaxis=dict(title=\"age\"))\n",
    "        \n",
    "    if plot_type == 'Histogram' and plot_data == 'parity':\n",
    "        case = df[df.case == 1].parity\n",
    "        control = df[df.case == 0].parity\n",
    "        \n",
    "        trace1 = go.Histogram(x=case,opacity=0.5,name = 'case')\n",
    "        trace2 = go.Histogram(x=control,opacity=0.5,name = 'control')\n",
    "        \n",
    "        data = [trace1, trace2]\n",
    "        layout = go.Layout(barmode = 'stack',title = \"parity by case/control group\",xaxis=dict(title=\"parity\"))\n",
    "     \n",
    "    if plot_type == 'Scatterplot':\n",
    "        traces = []\n",
    "        for i in df.case.unique():\n",
    "            df_by_case = df[df['case'] == i]\n",
    "            traces.append(go.Scatter(\n",
    "            x=df_by_case[xaxis],\n",
    "            y=df_by_case[yaxis],\n",
    "            mode='markers',\n",
    "            opacity=0.3,\n",
    "            marker=dict(\n",
    "                size='16',\n",
    "                opacity=0.7,\n",
    "                color = np.random.randn(248),\n",
    "                colorscale ='Viridis',\n",
    "                showscale=True)))\n",
    "        data = traces\n",
    "        layout = go.Layout()\n",
    "    \n",
    "        \n",
    "    figure={'data':data,'layout':layout} \n",
    "    return figure"
   ]
  },
  {
   "cell_type": "code",
   "execution_count": 15,
   "metadata": {
    "collapsed": true
   },
   "outputs": [],
   "source": [
    "app.css.append_css({\"external_url\": \"https://codepen.io/chriddyp/pen/bWLwgP.css\"})"
   ]
  },
  {
   "cell_type": "code",
   "execution_count": 16,
   "metadata": {},
   "outputs": [
    {
     "name": "stderr",
     "output_type": "stream",
     "text": [
      " * Running on http://127.0.0.1:8050/ (Press CTRL+C to quit)\n"
     ]
    }
   ],
   "source": [
    "if __name__ == '__main__':\n",
    "    app.run_server()"
   ]
  },
  {
   "cell_type": "code",
   "execution_count": null,
   "metadata": {
    "collapsed": true
   },
   "outputs": [],
   "source": []
  }
 ],
 "metadata": {
  "kernelspec": {
   "display_name": "Python 3",
   "language": "python",
   "name": "python3"
  },
  "language_info": {
   "codemirror_mode": {
    "name": "ipython",
    "version": 3
   },
   "file_extension": ".py",
   "mimetype": "text/x-python",
   "name": "python",
   "nbconvert_exporter": "python",
   "pygments_lexer": "ipython3",
   "version": "3.6.1"
  }
 },
 "nbformat": 4,
 "nbformat_minor": 2
}
